{
  "metadata": {
    "kernelspec": {
      "name": "python",
      "display_name": "Python (Pyodide)",
      "language": "python"
    },
    "language_info": {
      "codemirror_mode": {
        "name": "python",
        "version": 3
      },
      "file_extension": ".py",
      "mimetype": "text/x-python",
      "name": "python",
      "nbconvert_exporter": "python",
      "pygments_lexer": "ipython3",
      "version": "3.8"
    }
  },
  "nbformat_minor": 5,
  "nbformat": 4,
  "cells": [
    {
      "id": "451507cb-fe8e-4605-b82a-2e3b7c84fc31",
      "cell_type": "markdown",
      "source": "# Data Science Tools and Ecosystem",
      "metadata": {}
    },
    {
      "id": "7fa7c8af-3c3b-4b62-b092-3b97ca0c2da6",
      "cell_type": "markdown",
      "source": "In this notebook, Data Science Tools and Ecosystem are summarized.",
      "metadata": {}
    },
    {
      "id": "0d934e53-6ddc-4b69-80de-d06a884b2d54",
      "cell_type": "markdown",
      "source": "**Objectives:**\n- List Popular Languages for Data Science\n- List of commonly used libraries used by Data Scientists\n- Data Science Tools\n- Arithmetic Expression in Python",
      "metadata": {}
    },
    {
      "id": "d5a6c588-8fdd-49c4-a1fa-309f69657351",
      "cell_type": "markdown",
      "source": "Some of the popular languages that Data Scientists use are:\n1. Python\n2. R Language\n3. SQL",
      "metadata": {}
    },
    {
      "id": "ca18a429-bd77-45ce-8678-e65f72dc30de",
      "cell_type": "markdown",
      "source": "Some of the commonly used libraries used by Data Scientists include:\n1. Pandas\n2. NumPy\n3. Matplotlib",
      "metadata": {}
    },
    {
      "id": "11cc5ca2-b609-4fb0-b8fe-40b54fbcbebe",
      "cell_type": "markdown",
      "source": "|Data Science Tools|\n|------|\n|Jupyter Notebook|\n|RStudio|\n|VS Code|",
      "metadata": {}
    },
    {
      "id": "80a654bb-2796-4e2e-bc09-9377ba7cd7f1",
      "cell_type": "markdown",
      "source": "### Below are a few examples of evaluating arithmetic expressions in Python",
      "metadata": {}
    },
    {
      "id": "464b8d8f-80c9-4ad9-b66c-5fc36bcd2c83",
      "cell_type": "code",
      "source": "# This is a simple arithmetic expression to multiply then add integers.\n(3*4)+5",
      "metadata": {
        "trusted": true
      },
      "outputs": [
        {
          "execution_count": 6,
          "output_type": "execute_result",
          "data": {
            "text/plain": "17"
          },
          "metadata": {}
        }
      ],
      "execution_count": 6
    },
    {
      "id": "e5309a19-e78e-4832-a200-1c99a43cbb37",
      "cell_type": "code",
      "source": "# This will convert 200 minutes to hours by diving by 60.\n200/60",
      "metadata": {
        "trusted": true
      },
      "outputs": [
        {
          "execution_count": 7,
          "output_type": "execute_result",
          "data": {
            "text/plain": "3.3333333333333335"
          },
          "metadata": {}
        }
      ],
      "execution_count": 7
    },
    {
      "id": "46ab8867-96c1-4c2b-afff-a8c759825f9c",
      "cell_type": "markdown",
      "source": "## Author\nChristopher Idoy",
      "metadata": {}
    }
  ]
}